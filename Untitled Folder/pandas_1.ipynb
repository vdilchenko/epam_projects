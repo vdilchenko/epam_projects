{
 "cells": [
  {
   "cell_type": "code",
   "execution_count": 399,
   "metadata": {},
   "outputs": [],
   "source": [
    "from business_duration import businessDuration\n",
    "import pandas as pd\n",
    "from datetime import time, datetime\n",
    "from workalendar.europe import Russia\n",
    "import random\n",
    "import numpy as np"
   ]
  },
  {
   "cell_type": "code",
   "execution_count": 473,
   "metadata": {},
   "outputs": [],
   "source": [
    "N = 4\n",
    "\n",
    "start_dates = pd.date_range(start='2019-1-1', end= '2019-12-31', freq='30min')\n",
    "start_dates = start_dates[(start_dates.hour >= 8) & (start_dates.hour <= 18)]\n",
    "end_dates = pd.date_range(start='2019-1-1', end= '2020-1-1', freq='BH')\n",
    "\n",
    "holidaylist = Russia().holidays(startdate.year)\n",
    "HOLIDAYS = {date: holiday for date, holiday in holidaylist}\n",
    "UNIT='hour'\n",
    "OPEN_TIME=time(8,0,0)\n",
    "CLOSE_TIME=time(18,0,0)\n",
    "\n",
    "def calc_bd(start, end):\n",
    "    hours = businessDuration(startdate=start, enddate=end, starttime=OPEN_TIME,\n",
    "                                     endtime=CLOSE_TIME, holidaylist=HOLIDAYS, unit=UNIT)\n",
    "    return hours\n",
    "\n",
    "def dataset_creation(n):\n",
    "    df = pd.DataFrame({'Name': range(1, (10**n)+1), 'start_date': random.choices(start_dates, k=10**n)})\n",
    "    df['end_date'] = df.start_date.apply(lambda x: np.random.choice(end_dates[end_dates > x]))\n",
    "    df['implementation_time'] = [calc_bd(i[1], i[2]) for i in [a for a in df.to_numpy()]]\n",
    "    \n",
    "    return df"
   ]
  },
  {
   "cell_type": "code",
   "execution_count": 460,
   "metadata": {},
   "outputs": [
    {
     "name": "stdout",
     "output_type": "stream",
     "text": [
      "CPU times: user 6.09 s, sys: 21.4 ms, total: 6.11 s\n",
      "Wall time: 6.13 s\n"
     ]
    }
   ],
   "source": [
    "%%time\n",
    "df = pd.DataFrame({'Name': range(1, (10**N)+1), 'start_date': random.choices(start_dates, k=10**N)})\n",
    "df['end_date'] = df.start_date.apply(lambda x: np.random.choice(end_dates[end_dates > x]))\n",
    "df['implementation_time'] = [calc_bd(i[1], i[2]) for i in [a for a in df.to_numpy()]]\n",
    "\n",
    "df['start_date'] = pd.to_datetime(df['start_date']).dt.strftime('%Y-%m-%dT%H:%M%:%S')\n",
    "df['end_date'] = pd.to_datetime(df['end_date']).dt.strftime('%Y-%m-%dT%H:%M%:%S')"
   ]
  },
  {
   "cell_type": "code",
   "execution_count": 461,
   "metadata": {},
   "outputs": [
    {
     "data": {
      "text/html": [
       "<div>\n",
       "<style scoped>\n",
       "    .dataframe tbody tr th:only-of-type {\n",
       "        vertical-align: middle;\n",
       "    }\n",
       "\n",
       "    .dataframe tbody tr th {\n",
       "        vertical-align: top;\n",
       "    }\n",
       "\n",
       "    .dataframe thead th {\n",
       "        text-align: right;\n",
       "    }\n",
       "</style>\n",
       "<table border=\"1\" class=\"dataframe\">\n",
       "  <thead>\n",
       "    <tr style=\"text-align: right;\">\n",
       "      <th></th>\n",
       "      <th>Name</th>\n",
       "      <th>start_date</th>\n",
       "      <th>end_date</th>\n",
       "      <th>implementation_time</th>\n",
       "    </tr>\n",
       "  </thead>\n",
       "  <tbody>\n",
       "    <tr>\n",
       "      <th>0</th>\n",
       "      <td>1</td>\n",
       "      <td>2019-06-25T15:30:00</td>\n",
       "      <td>2019-08-06T12:00:00</td>\n",
       "      <td>296.5</td>\n",
       "    </tr>\n",
       "    <tr>\n",
       "      <th>1</th>\n",
       "      <td>2</td>\n",
       "      <td>2019-05-06T09:00:00</td>\n",
       "      <td>2019-05-30T12:00:00</td>\n",
       "      <td>183.0</td>\n",
       "    </tr>\n",
       "    <tr>\n",
       "      <th>2</th>\n",
       "      <td>3</td>\n",
       "      <td>2019-02-02T17:30:00</td>\n",
       "      <td>2019-09-24T12:00:00</td>\n",
       "      <td>1664.0</td>\n",
       "    </tr>\n",
       "    <tr>\n",
       "      <th>3</th>\n",
       "      <td>4</td>\n",
       "      <td>2019-08-18T18:30:00</td>\n",
       "      <td>2019-12-30T10:00:00</td>\n",
       "      <td>952.0</td>\n",
       "    </tr>\n",
       "    <tr>\n",
       "      <th>4</th>\n",
       "      <td>5</td>\n",
       "      <td>2019-06-29T12:30:00</td>\n",
       "      <td>2019-10-22T15:00:00</td>\n",
       "      <td>817.0</td>\n",
       "    </tr>\n",
       "  </tbody>\n",
       "</table>\n",
       "</div>"
      ],
      "text/plain": [
       "   Name           start_date             end_date  implementation_time\n",
       "0     1  2019-06-25T15:30:00  2019-08-06T12:00:00                296.5\n",
       "1     2  2019-05-06T09:00:00  2019-05-30T12:00:00                183.0\n",
       "2     3  2019-02-02T17:30:00  2019-09-24T12:00:00               1664.0\n",
       "3     4  2019-08-18T18:30:00  2019-12-30T10:00:00                952.0\n",
       "4     5  2019-06-29T12:30:00  2019-10-22T15:00:00                817.0"
      ]
     },
     "execution_count": 461,
     "metadata": {},
     "output_type": "execute_result"
    }
   ],
   "source": [
    "df.head()"
   ]
  },
  {
   "cell_type": "code",
   "execution_count": 458,
   "metadata": {},
   "outputs": [
    {
     "name": "stdout",
     "output_type": "stream",
     "text": [
      "6.76 s ± 38.8 ms per loop (mean ± std. dev. of 7 runs, 1 loop each)\n"
     ]
    }
   ],
   "source": [
    "# %%timeit\n",
    "# df1 = pd.DataFrame({'Name': range(1, (10**N)+1), 'Start_date': random.choices(start_dates, k=10**N)})\n",
    "# df1['End_date'] = df1.Start_date.apply(lambda x: np.random.choice(end_dates[end_dates > x]))\n",
    "# df1['Implementation_time'] = df1.apply(lambda x: b_d(x.Start_date, x.End_date), axis=1)"
   ]
  },
  {
   "cell_type": "code",
   "execution_count": 466,
   "metadata": {},
   "outputs": [],
   "source": [
    "df['start_date'] = pd.to_datetime(df['start_date'])\n",
    "df['end_date'] = pd.to_datetime(df['end_date'])"
   ]
  },
  {
   "cell_type": "code",
   "execution_count": 467,
   "metadata": {},
   "outputs": [],
   "source": [
    "import matplotlib.pyplot as plt"
   ]
  },
  {
   "cell_type": "code",
   "execution_count": 468,
   "metadata": {},
   "outputs": [
    {
     "data": {
      "image/png": "[encoded data removed]",
      "text/plain": [
       "<Figure size 432x288 with 1 Axes>"
      ]
     },
     "metadata": {
      "needs_background": "light"
     },
     "output_type": "display_data"
    }
   ],
   "source": [
    "plt.hist([df.start_date.dt.month, df.end_date.dt.month])\n",
    "plt.xlabel('month')\n",
    "plt.ylabel('count')\n",
    "plt.legend(['Received', 'Completed'])\n",
    "plt.show()"
   ]
  },
  {
   "cell_type": "code",
   "execution_count": 469,
   "metadata": {},
   "outputs": [],
   "source": [
    "time_comparison = {'N': [], 'time_taken': []}"
   ]
  },
  {
   "cell_type": "code",
   "execution_count": 474,
   "metadata": {},
   "outputs": [],
   "source": [
    "# n < 8 - natural\n",
    "for i in [1,2,3,4,5,6,7]:\n",
    "    start = datetime.now()\n",
    "    n = 8 - i - 1\n",
    "    ds = dataset_creation(n)\n",
    "    end = datetime.now() - start\n",
    "    time_comparison['N'].append(n)\n",
    "    time_comparison['time_taken'].append(end)"
   ]
  },
  {
   "cell_type": "code",
   "execution_count": 482,
   "metadata": {},
   "outputs": [
    {
     "data": {
      "text/plain": [
       "[datetime.timedelta(seconds=571, microseconds=206456),\n",
       " datetime.timedelta(seconds=56, microseconds=706486),\n",
       " datetime.timedelta(seconds=6, microseconds=31963),\n",
       " datetime.timedelta(microseconds=588145),\n",
       " datetime.timedelta(microseconds=82003),\n",
       " datetime.timedelta(microseconds=11107),\n",
       " datetime.timedelta(microseconds=2516)]"
      ]
     },
     "execution_count": 482,
     "metadata": {},
     "output_type": "execute_result"
    }
   ],
   "source": [
    "time_comparison['time_taken']"
   ]
  },
  {
   "cell_type": "code",
   "execution_count": 484,
   "metadata": {},
   "outputs": [
    {
     "data": {
      "image/png": "[encoded data removed]",
      "text/plain": [
       "<Figure size 432x288 with 1 Axes>"
      ]
     },
     "metadata": {
      "needs_background": "light"
     },
     "output_type": "display_data"
    }
   ],
   "source": [
    "plt.plot(time_comparison['N'], [i.seconds for i in time_comparison['time_taken']])\n",
    "plt.xlabel('N')\n",
    "plt.ylabel('Sec')\n",
    "plt.show()"
   ]
  },
  {
   "cell_type": "code",
   "execution_count": null,
   "metadata": {},
   "outputs": [],
   "source": []
  }
 ],
 "metadata": {
  "kernelspec": {
   "display_name": "Python 3",
   "language": "python",
   "name": "python3"
  },
  "language_info": {
   "codemirror_mode": {
    "name": "ipython",
    "version": 3
   },
   "file_extension": ".py",
   "mimetype": "text/x-python",
   "name": "python",
   "nbconvert_exporter": "python",
   "pygments_lexer": "ipython3",
   "version": "3.8.6"
  }
 },
 "nbformat": 4,
 "nbformat_minor": 4
}
