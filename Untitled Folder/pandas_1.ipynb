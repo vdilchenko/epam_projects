{
 "cells": [
  {
   "cell_type": "code",
   "execution_count": 399,
   "metadata": {},
   "outputs": [],
   "source": [
    "from business_duration import businessDuration\n",
    "import pandas as pd\n",
    "from datetime import time, datetime\n",
    "from workalendar.europe import Russia\n",
    "import random\n",
    "import numpy as np"
   ]
  },
  {
   "cell_type": "code",
   "execution_count": 523,
   "metadata": {},
   "outputs": [],
   "source": [
    "N = 4\n",
    "\n",
    "start_dates = pd.date_range(start='2019-1-1', end= '2019-12-31', freq='30min')\n",
    "start_dates = np.array(start_dates[(start_dates.hour >= 8) & (start_dates.hour <= 18)])\n",
    "end_dates = np.array(pd.date_range(start='2019-1-1', end= '2020-1-1', freq='BH'))\n",
    "\n",
    "holidaylist = Russia().holidays(startdate.year)\n",
    "HOLIDAYS = {date: holiday for date, holiday in holidaylist}\n",
    "UNIT='hour'\n",
    "OPEN_TIME=time(8,0,0)\n",
    "CLOSE_TIME=time(18,0,0)\n",
    "\n",
    "def calc_bd(start, end):\n",
    "    hours = businessDuration(startdate=start, enddate=end, starttime=OPEN_TIME,\n",
    "                                     endtime=CLOSE_TIME, holidaylist=HOLIDAYS, unit=UNIT)\n",
    "    return hours\n",
    "\n",
    "def dataset_creation(n):\n",
    "    df = pd.DataFrame({'Name': range(1, (10**n)+1), 'start_date': random.choices(start_dates, k=10**n)})\n",
    "    df['end_date'] = df.start_date.apply(lambda x: np.random.choice(end_dates[end_dates > x]))\n",
    "    df['implementation_time'] = [calc_bd(i[1], i[2]) for i in [a for a in df.to_numpy()]]\n",
    "    \n",
    "    return df"
   ]
  },
  {
   "cell_type": "code",
   "execution_count": 524,
   "metadata": {},
   "outputs": [
    {
     "name": "stdout",
     "output_type": "stream",
     "text": [
      "CPU times: user 4.73 s, sys: 12.9 ms, total: 4.74 s\n",
      "Wall time: 4.75 s\n"
     ]
    }
   ],
   "source": [
    "%%time\n",
    "# apply + df.to_numpy\n",
    "df = pd.DataFrame({'Name': range(1, (10**N)+1), 'start_date': random.choices(start_dates, k=10**N)})\n",
    "df['end_date'] = df.start_date.apply(lambda x: np.random.choice(end_dates[end_dates > x]))\n",
    "df['implementation_time'] = [calc_bd(i[1], i[2]) for i in [a for a in df.to_numpy()]]\n",
    "\n",
    "# df['start_date'] = pd.to_datetime(df['start_date']).dt.strftime('%Y-%m-%dT%H:%M%:%S')\n",
    "# df['end_date'] = pd.to_datetime(df['end_date']).dt.strftime('%Y-%m-%dT%H:%M%:%S')"
   ]
  },
  {
   "cell_type": "code",
   "execution_count": 517,
   "metadata": {},
   "outputs": [
    {
     "name": "stdout",
     "output_type": "stream",
     "text": [
      "CPU times: user 5.64 s, sys: 7.05 ms, total: 5.65 s\n",
      "Wall time: 5.65 s\n"
     ]
    }
   ],
   "source": [
    "%%time\n",
    "# apply + apply\n",
    "df1 = pd.DataFrame({'Name': range(1, (10**N)+1), 'Start_date': random.choices(start_dates, k=10**N)})\n",
    "df1['End_date'] = df1.Start_date.apply(lambda x: np.random.choice(end_dates[end_dates > x]))\n",
    "df1['Implementation_time'] = df1.apply(lambda x: b_d(x.Start_date, x.End_date), axis=1)"
   ]
  },
  {
   "cell_type": "code",
   "execution_count": 529,
   "metadata": {},
   "outputs": [
    {
     "name": "stdout",
     "output_type": "stream",
     "text": [
      "CPU times: user 5.6 s, sys: 6.34 ms, total: 5.6 s\n",
      "Wall time: 5.6 s\n"
     ]
    }
   ],
   "source": [
    "%%time\n",
    "# apply + iterrows\n",
    "df2 = pd.DataFrame({'Name': range(1, (10**N)+1), 'start_date': random.choices(start_dates, k=10**N)})\n",
    "df2['end_date'] = df2.start_date.apply(lambda x: np.random.choice(end_dates[end_dates > x]))\n",
    "df2['implementation_time'] = [calc_bd(row.start_date, row.end_date) for ind, row in df2.iterrows()]"
   ]
  },
  {
   "cell_type": "code",
   "execution_count": 530,
   "metadata": {},
   "outputs": [
    {
     "data": {
      "text/html": [
       "<div>\n",
       "<style scoped>\n",
       "    .dataframe tbody tr th:only-of-type {\n",
       "        vertical-align: middle;\n",
       "    }\n",
       "\n",
       "    .dataframe tbody tr th {\n",
       "        vertical-align: top;\n",
       "    }\n",
       "\n",
       "    .dataframe thead th {\n",
       "        text-align: right;\n",
       "    }\n",
       "</style>\n",
       "<table border=\"1\" class=\"dataframe\">\n",
       "  <thead>\n",
       "    <tr style=\"text-align: right;\">\n",
       "      <th></th>\n",
       "      <th>Name</th>\n",
       "      <th>start_date</th>\n",
       "      <th>end_date</th>\n",
       "      <th>implementation_time</th>\n",
       "    </tr>\n",
       "  </thead>\n",
       "  <tbody>\n",
       "    <tr>\n",
       "      <th>0</th>\n",
       "      <td>1</td>\n",
       "      <td>2019-05-10T15:30:00</td>\n",
       "      <td>2019-12-11T15:00:00</td>\n",
       "      <td>1529.5</td>\n",
       "    </tr>\n",
       "    <tr>\n",
       "      <th>1</th>\n",
       "      <td>2</td>\n",
       "      <td>2019-10-11T09:00:00</td>\n",
       "      <td>2019-12-11T11:00:00</td>\n",
       "      <td>432.0</td>\n",
       "    </tr>\n",
       "    <tr>\n",
       "      <th>2</th>\n",
       "      <td>3</td>\n",
       "      <td>2019-08-07T15:30:00</td>\n",
       "      <td>2019-09-23T14:00:00</td>\n",
       "      <td>328.5</td>\n",
       "    </tr>\n",
       "    <tr>\n",
       "      <th>3</th>\n",
       "      <td>4</td>\n",
       "      <td>2019-04-03T16:00:00</td>\n",
       "      <td>2019-10-28T16:00:00</td>\n",
       "      <td>1480.0</td>\n",
       "    </tr>\n",
       "    <tr>\n",
       "      <th>4</th>\n",
       "      <td>5</td>\n",
       "      <td>2019-08-11T11:30:00</td>\n",
       "      <td>2019-10-07T12:00:00</td>\n",
       "      <td>404.0</td>\n",
       "    </tr>\n",
       "  </tbody>\n",
       "</table>\n",
       "</div>"
      ],
      "text/plain": [
       "   Name           start_date             end_date  implementation_time\n",
       "0     1  2019-05-10T15:30:00  2019-12-11T15:00:00               1529.5\n",
       "1     2  2019-10-11T09:00:00  2019-12-11T11:00:00                432.0\n",
       "2     3  2019-08-07T15:30:00  2019-09-23T14:00:00                328.5\n",
       "3     4  2019-04-03T16:00:00  2019-10-28T16:00:00               1480.0\n",
       "4     5  2019-08-11T11:30:00  2019-10-07T12:00:00                404.0"
      ]
     },
     "execution_count": 530,
     "metadata": {},
     "output_type": "execute_result"
    }
   ],
   "source": [
    "df.head()"
   ]
  },
  {
   "cell_type": "code",
   "execution_count": 531,
   "metadata": {},
   "outputs": [],
   "source": [
    "df['start_date'] = pd.to_datetime(df['start_date'])\n",
    "df['end_date'] = pd.to_datetime(df['end_date'])"
   ]
  },
  {
   "cell_type": "code",
   "execution_count": 532,
   "metadata": {},
   "outputs": [],
   "source": [
    "import matplotlib.pyplot as plt"
   ]
  },
  {
   "cell_type": "code",
   "execution_count": 533,
   "metadata": {},
   "outputs": [
    {
     "data": {
      "image/png": "[encoded data removed]",
      "text/plain": [
       "<Figure size 432x288 with 1 Axes>"
      ]
     },
     "metadata": {
      "needs_background": "light"
     },
     "output_type": "display_data"
    }
   ],
   "source": [
    "plt.hist([df.start_date.dt.month, df.end_date.dt.month])\n",
    "plt.xlabel('month')\n",
    "plt.ylabel('count')\n",
    "plt.legend(['Received', 'Completed'])\n",
    "plt.show()"
   ]
  },
  {
   "cell_type": "code",
   "execution_count": 534,
   "metadata": {},
   "outputs": [],
   "source": [
    "time_comparison = {'N': [], 'time_taken': []}"
   ]
  },
  {
   "cell_type": "code",
   "execution_count": 535,
   "metadata": {},
   "outputs": [],
   "source": [
    "# n < 8 - natural\n",
    "for i in [1,2,3,4,5,6,7]:\n",
    "    start = datetime.now()\n",
    "    n = 8 - i - 1\n",
    "    ds = dataset_creation(n)\n",
    "    end = datetime.now() - start\n",
    "    time_comparison['N'].append(n)\n",
    "    time_comparison['time_taken'].append(end)"
   ]
  },
  {
   "cell_type": "code",
   "execution_count": 536,
   "metadata": {},
   "outputs": [
    {
     "data": {
      "image/png": "[encoded data removed]",
      "text/plain": [
       "<Figure size 432x288 with 1 Axes>"
      ]
     },
     "metadata": {
      "needs_background": "light"
     },
     "output_type": "display_data"
    }
   ],
   "source": [
    "plt.plot(time_comparison['N'], [i.seconds for i in time_comparison['time_taken']])\n",
    "plt.xlabel('N')\n",
    "plt.ylabel('Sec')\n",
    "plt.show()"
   ]
  },
  {
   "cell_type": "code",
   "execution_count": null,
   "metadata": {},
   "outputs": [],
   "source": []
  }
 ],
 "metadata": {
  "kernelspec": {
   "display_name": "Python 3",
   "language": "python",
   "name": "python3"
  },
  "language_info": {
   "codemirror_mode": {
    "name": "ipython",
    "version": 3
   },
   "file_extension": ".py",
   "mimetype": "text/x-python",
   "name": "python",
   "nbconvert_exporter": "python",
   "pygments_lexer": "ipython3",
   "version": "3.8.6"
  }
 },
 "nbformat": 4,
 "nbformat_minor": 4
}
